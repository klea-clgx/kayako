{
 "cells": [
  {
   "cell_type": "code",
   "execution_count": 2,
   "metadata": {},
   "outputs": [
    {
     "name": "stdout",
     "output_type": "stream",
     "text": [
      "State: Mississippi\n",
      "Start Date: 2022-04-01 00:00:00\n",
      "End Date: 2023-03-31 00:00:00\n",
      "Columns: ['File number', 'property address', 'date completed', 'client name', 'product type', 'vendor first name', 'vendor last name', 'vendor license number', 'vendor license expiration date', 'date vendor first completed a report with Service 1st.']\n"
     ]
    }
   ],
   "source": [
    "import re\n",
    "from dateutil import parser\n",
    "\n",
    "def extract_information(email_text):\n",
    "    state_pattern = r'in (\\w+) from'\n",
    "    date_range_pattern = r'from ([\\d/]+) through ([\\d/]+)'\n",
    "    columns_pattern = r'columns:(.*)'\n",
    "\n",
    "    state_match = re.search(state_pattern, email_text, re.IGNORECASE)\n",
    "    date_range_match = re.search(date_range_pattern, email_text)\n",
    "    columns_match = re.search(columns_pattern, email_text, re.IGNORECASE)\n",
    "\n",
    "    state = state_match.group(1) if state_match else None\n",
    "    start_date_str, end_date_str = date_range_match.groups() if date_range_match else (None, None)\n",
    "    columns = [col.strip() for col in columns_match.group(1).split(',') if col.strip()] if columns_match else []\n",
    "\n",
    "    try:\n",
    "        start_date = parser.parse(start_date_str)\n",
    "        end_date = parser.parse(end_date_str)\n",
    "    except:\n",
    "        start_date = None\n",
    "        end_date = None\n",
    "\n",
    "    return state, (start_date, end_date), columns\n",
    "\n",
    "email = \"Hi Alan, May I request a report for all completed transactions in Mississippi from 4/1/2022 through 3/31/2023, with the following columns: File number, property address, date completed, client name, product type, vendor first name, vendor last name, vendor license number, vendor license expiration date, date vendor first completed a report with Service 1st.\"\n",
    "\n",
    "state, date_range, columns = extract_information(email)\n",
    "\n",
    "print(\"State:\", state)\n",
    "print(\"Start Date:\", date_range[0])\n",
    "print(\"End Date:\", date_range[1])\n",
    "print(\"Columns:\", columns)\n"
   ]
  },
  {
   "cell_type": "code",
   "execution_count": 1,
   "metadata": {},
   "outputs": [
    {
     "ename": "FileNotFoundError",
     "evalue": "[Errno 2] No such file or directory: 'emails.csv'",
     "output_type": "error",
     "traceback": [
      "\u001b[0;31m---------------------------------------------------------------------------\u001b[0m",
      "\u001b[0;31mFileNotFoundError\u001b[0m                         Traceback (most recent call last)",
      "Cell \u001b[0;32mIn[1], line 6\u001b[0m\n\u001b[1;32m      4\u001b[0m \u001b[39m# Read the CSV file, skipping rows with parsing errors\u001b[39;00m\n\u001b[1;32m      5\u001b[0m rows \u001b[39m=\u001b[39m []\n\u001b[0;32m----> 6\u001b[0m \u001b[39mwith\u001b[39;00m \u001b[39mopen\u001b[39;49m(\u001b[39m'\u001b[39;49m\u001b[39memails.csv\u001b[39;49m\u001b[39m'\u001b[39;49m, \u001b[39m'\u001b[39;49m\u001b[39mr\u001b[39;49m\u001b[39m'\u001b[39;49m, encoding\u001b[39m=\u001b[39;49m\u001b[39m'\u001b[39;49m\u001b[39mutf-8\u001b[39;49m\u001b[39m'\u001b[39;49m, errors\u001b[39m=\u001b[39;49m\u001b[39m'\u001b[39;49m\u001b[39mignore\u001b[39;49m\u001b[39m'\u001b[39;49m) \u001b[39mas\u001b[39;00m file:\n\u001b[1;32m      7\u001b[0m     csv_reader \u001b[39m=\u001b[39m csv\u001b[39m.\u001b[39mreader(file)\n\u001b[1;32m      8\u001b[0m     \u001b[39mfor\u001b[39;00m row \u001b[39min\u001b[39;00m csv_reader:\n",
      "File \u001b[0;32m~/miniconda3/lib/python3.10/site-packages/IPython/core/interactiveshell.py:284\u001b[0m, in \u001b[0;36m_modified_open\u001b[0;34m(file, *args, **kwargs)\u001b[0m\n\u001b[1;32m    277\u001b[0m \u001b[39mif\u001b[39;00m file \u001b[39min\u001b[39;00m {\u001b[39m0\u001b[39m, \u001b[39m1\u001b[39m, \u001b[39m2\u001b[39m}:\n\u001b[1;32m    278\u001b[0m     \u001b[39mraise\u001b[39;00m \u001b[39mValueError\u001b[39;00m(\n\u001b[1;32m    279\u001b[0m         \u001b[39mf\u001b[39m\u001b[39m\"\u001b[39m\u001b[39mIPython won\u001b[39m\u001b[39m'\u001b[39m\u001b[39mt let you open fd=\u001b[39m\u001b[39m{\u001b[39;00mfile\u001b[39m}\u001b[39;00m\u001b[39m by default \u001b[39m\u001b[39m\"\u001b[39m\n\u001b[1;32m    280\u001b[0m         \u001b[39m\"\u001b[39m\u001b[39mas it is likely to crash IPython. If you know what you are doing, \u001b[39m\u001b[39m\"\u001b[39m\n\u001b[1;32m    281\u001b[0m         \u001b[39m\"\u001b[39m\u001b[39myou can use builtins\u001b[39m\u001b[39m'\u001b[39m\u001b[39m open.\u001b[39m\u001b[39m\"\u001b[39m\n\u001b[1;32m    282\u001b[0m     )\n\u001b[0;32m--> 284\u001b[0m \u001b[39mreturn\u001b[39;00m io_open(file, \u001b[39m*\u001b[39;49margs, \u001b[39m*\u001b[39;49m\u001b[39m*\u001b[39;49mkwargs)\n",
      "\u001b[0;31mFileNotFoundError\u001b[0m: [Errno 2] No such file or directory: 'emails.csv'"
     ]
    }
   ],
   "source": [
    "import csv\n",
    "import pandas as pd\n",
    "\n",
    "# Read the CSV file, skipping rows with parsing errors\n",
    "rows = []\n",
    "with open('emails.csv', 'r', encoding='utf-8', errors='ignore') as file:\n",
    "    csv_reader = csv.reader(file)\n",
    "    for row in csv_reader:\n",
    "        cleaned_row = [cell.strip().replace('\"', '') for cell in row]\n",
    "        rows.append(cleaned_row)\n",
    "\n",
    "# Get the column names from the first row and clean them\n",
    "column_names = rows[0]\n",
    "cleaned_column_names = [name.strip().replace('\"', '') for name in column_names]\n",
    "\n",
    "# Create a DataFrame excluding the first row (column names) to preserve cleaned column names\n",
    "df = pd.DataFrame(rows[1:], columns=cleaned_column_names)\n",
    "\n",
    "# Rename the first column as \"Subject\"\n",
    "df = df.rename(columns={df.columns[0]: 'Subject'})\n",
    "\n",
    "# Remove rows with empty body\n",
    "df = df.dropna(subset=['Body'])\n",
    "\n",
    "# Remove rows with Subject containing specific phrases or words\n",
    "subject_patterns = ['Request received', 'Resolved Ticket', 'Automatic Reply', 'Your ticket has been created', 'Undeliverable',\n",
    "                    'Email Delivery Failure', \"Your message couldn't be delivered\", 'Out of the Office']\n",
    "subject_pattern_regex = '|'.join(subject_patterns)\n",
    "df = df[~df['Subject'].str.contains(subject_pattern_regex, na=False, case=False, regex=True)]\n",
    "\n",
    "# Remove rows with both \"Ticket\" and \"Received\" in the Subject\n",
    "df = df[~(df['Subject'].str.contains('Ticket', case=False, na=False) & df['Subject'].str.contains('Received', case=False, na=False))]\n",
    "\n",
    "# Remove rows with specific email address in the \"From:(Address)\" field\n",
    "df = df[~df['From:(Address)'].str.contains('support@mercuryvmp.kayako.com', na=False, case=False)]\n",
    "\n",
    "# Clean up the Body field\n",
    "df['Body'] = df['Body'].str.replace('<.*?>', '', regex=True)  # Remove HTML tags\n",
    "df['Body'] = df['Body'].str.replace('\\n', ' ')  # Replace newline characters with spaces\n",
    "df['Body'] = df['Body'].str.replace(' +', ' ', regex=True)  # Remove extra spaces\n",
    "\n",
    "# Select the desired columns\n",
    "desired_columns = ['Subject', 'Body', 'From:(Address)', 'To:(Address)']\n",
    "df = df[desired_columns]\n",
    "\n",
    "# Save the cleaned data to a new CSV file\n",
    "df.to_csv('cleaned_emails.csv', index=False)\n"
   ]
  }
 ],
 "metadata": {
  "kernelspec": {
   "display_name": "Python 3",
   "language": "python",
   "name": "python3"
  },
  "language_info": {
   "codemirror_mode": {
    "name": "ipython",
    "version": 3
   },
   "file_extension": ".py",
   "mimetype": "text/x-python",
   "name": "python",
   "nbconvert_exporter": "python",
   "pygments_lexer": "ipython3",
   "version": "3.10.9"
  },
  "orig_nbformat": 4
 },
 "nbformat": 4,
 "nbformat_minor": 2
}
